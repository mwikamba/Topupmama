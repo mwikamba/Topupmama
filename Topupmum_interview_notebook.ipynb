{
 "cells": [
  {
   "cell_type": "code",
   "execution_count": 1,
   "id": "be347a1b",
   "metadata": {},
   "outputs": [],
   "source": [
    "# importing libraries\n",
    "import pandas as pd\n",
    "import numpy as np\n",
    "import seaborn as sns\n",
    "import matplotlib.pyplot as plt \n",
    "import warnings\n",
    "warnings.filterwarnings('ignore')\n",
    "import re\n",
    "import datetime as date\n",
    "pd.set_option('display.max_columns', None)"
   ]
  },
  {
   "cell_type": "code",
   "execution_count": 2,
   "id": "ec235907",
   "metadata": {},
   "outputs": [],
   "source": [
    "# importing data\n",
    "# data from Kenya\n",
    "\n",
    "Kenya_customer_df= pd.read_csv('Kenya Customers.csv')\n",
    "Kenya_orders_df= pd.read_csv('Kenya Orders.csv')\n",
    "Kenya_deliveries_df= pd.read_csv('Kenya Deliveries.csv')\n",
    "\n",
    "# Data from Nigeria\n",
    "\n",
    "Nigeria_customer_df= pd.read_csv('Nigeria Customers.csv')\n",
    "Nigeria_orders_df= pd.read_csv('Nigeria Orders.csv')\n",
    "Nigeria_deliveries_df= pd.read_csv('Nigeria Deliveries.csv')"
   ]
  },
  {
   "cell_type": "code",
   "execution_count": 3,
   "id": "c6960e13",
   "metadata": {},
   "outputs": [
    {
     "data": {
      "text/plain": [
       "(Index(['Customer ID', 'Last Used Platform', 'Is Blocked', 'Created At',\n",
       "        'Language', 'Outstanding Amount', 'Loyalty Points',\n",
       "        'Number of employees', 'Upload restuarant location'],\n",
       "       dtype='object'),\n",
       " Index(['Order ID', 'Order Status', 'Category Name', 'SKU',\n",
       "        'Customization Group', 'Customization Option', 'Quantity', 'Unit Price',\n",
       "        'Cost Price', 'Total Cost Price', 'Total Price', 'Order Total',\n",
       "        'Sub Total', 'Tax', 'Delivery Charge', 'Tip', 'Discount',\n",
       "        'Remaining Balance', 'Payment Method', 'Additional Charge',\n",
       "        'Taxable Amount', 'Transaction ID', 'Currency Symbol',\n",
       "        'Transaction Status', 'Promo Code', 'Customer ID', 'Merchant ID',\n",
       "        'Store Name', 'Pickup Address', 'Description', 'Distance (in km)',\n",
       "        'Order Time', 'Pickup Time', 'Delivery Time', 'Ratings', 'Reviews',\n",
       "        'Merchant Earning', 'Commission Amount', 'Commission Payout Status',\n",
       "        'Order Preparation Time', 'Debt Amount', 'Redeemed Loyalty Points',\n",
       "        'Consumed Loyalty Points', 'Cancellation Reason', 'Flat Discount',\n",
       "        'Checkout Template Name', 'Checkout Template Value'],\n",
       "       dtype='object'),\n",
       " Index(['Task_ID', 'Order_ID', 'Relationship', 'Team_Name', 'Task_Type',\n",
       "        'Notes', 'Agent_ID', 'Agent_Name', 'Distance(m)',\n",
       "        'Total_Time_Taken(min)', 'Pick_up_From', 'Start_Before',\n",
       "        'Complete_Before', 'Completion_Time', 'Task_Status', 'Ref_Images',\n",
       "        'Rating', 'Review', 'Latitude', 'Longitude', 'Tags', 'Promo_Applied',\n",
       "        'Custom_Template_ID', 'Task_Details_QTY', 'Task_Details_AMOUNT',\n",
       "        'Special_Instructions', 'Tip', 'Delivery_Charges', 'Discount',\n",
       "        'Subtotal', 'Payment_Type', 'Task_Category', 'Earning', 'Pricing',\n",
       "        'Unnamed: 34', 'Unnamed: 35'],\n",
       "       dtype='object'))"
      ]
     },
     "execution_count": 3,
     "metadata": {},
     "output_type": "execute_result"
    }
   ],
   "source": [
    "# exploring columns from Kenya data\n",
    "\n",
    "Kenya_customer_df.columns, Kenya_orders_df.columns,Kenya_deliveries_df.columns"
   ]
  },
  {
   "cell_type": "code",
   "execution_count": 4,
   "id": "d8e4598d",
   "metadata": {},
   "outputs": [
    {
     "data": {
      "text/plain": [
       "Customer ID                     int64\n",
       "Last Used Platform             object\n",
       "Is Blocked                      int64\n",
       "Created At                     object\n",
       "Language                       object\n",
       "Outstanding Amount              int64\n",
       "Loyalty Points                  int64\n",
       "Number of employees           float64\n",
       "Upload restuarant location     object\n",
       "dtype: object"
      ]
     },
     "execution_count": 4,
     "metadata": {},
     "output_type": "execute_result"
    }
   ],
   "source": [
    "Kenya_customer_df.dtypes"
   ]
  },
  {
   "cell_type": "code",
   "execution_count": 5,
   "id": "ec991703",
   "metadata": {},
   "outputs": [
    {
     "data": {
      "text/plain": [
       "Order ID                      int64\n",
       "Order Status                 object\n",
       "Category Name                object\n",
       "SKU                          object\n",
       "Customization Group         float64\n",
       "Customization Option        float64\n",
       "Quantity                      int64\n",
       "Unit Price                    int64\n",
       "Cost Price                   object\n",
       "Total Cost Price             object\n",
       "Total Price                   int64\n",
       "Order Total                 float64\n",
       "Sub Total                     int64\n",
       "Tax                          object\n",
       "Delivery Charge              object\n",
       "Tip                          object\n",
       "Discount                     object\n",
       "Remaining Balance             int64\n",
       "Payment Method               object\n",
       "Additional Charge            object\n",
       "Taxable Amount               object\n",
       "Transaction ID                int64\n",
       "Currency Symbol              object\n",
       "Transaction Status          float64\n",
       "Promo Code                  float64\n",
       "Customer ID                   int64\n",
       "Merchant ID                   int64\n",
       "Store Name                   object\n",
       "Pickup Address               object\n",
       "Description                  object\n",
       "Distance (in km)            float64\n",
       "Order Time                   object\n",
       "Pickup Time                  object\n",
       "Delivery Time                object\n",
       "Ratings                     float64\n",
       "Reviews                      object\n",
       "Merchant Earning            float64\n",
       "Commission Amount           float64\n",
       "Commission Payout Status    float64\n",
       "Order Preparation Time        int64\n",
       "Debt Amount                  object\n",
       "Redeemed Loyalty Points      object\n",
       "Consumed Loyalty Points      object\n",
       "Cancellation Reason         float64\n",
       "Flat Discount                 int64\n",
       "Checkout Template Name       object\n",
       "Checkout Template Value      object\n",
       "dtype: object"
      ]
     },
     "execution_count": 5,
     "metadata": {},
     "output_type": "execute_result"
    }
   ],
   "source": [
    "Kenya_orders_df.dtypes"
   ]
  },
  {
   "cell_type": "code",
   "execution_count": 6,
   "id": "2cbbfd36",
   "metadata": {},
   "outputs": [
    {
     "data": {
      "text/plain": [
       "Task_ID                  False\n",
       "Order_ID                 False\n",
       "Relationship             False\n",
       "Team_Name                False\n",
       "Task_Type                False\n",
       "Notes                     True\n",
       "Agent_ID                 False\n",
       "Agent_Name               False\n",
       "Distance(m)              False\n",
       "Total_Time_Taken(min)    False\n",
       "Pick_up_From             False\n",
       "Start_Before             False\n",
       "Complete_Before          False\n",
       "Completion_Time          False\n",
       "Task_Status              False\n",
       "Ref_Images               False\n",
       "Rating                   False\n",
       "Review                    True\n",
       "Latitude                 False\n",
       "Longitude                False\n",
       "Tags                      True\n",
       "Promo_Applied             True\n",
       "Custom_Template_ID       False\n",
       "Task_Details_QTY         False\n",
       "Task_Details_AMOUNT      False\n",
       "Special_Instructions     False\n",
       "Tip                      False\n",
       "Delivery_Charges         False\n",
       "Discount                 False\n",
       "Subtotal                 False\n",
       "Payment_Type             False\n",
       "Task_Category            False\n",
       "Earning                  False\n",
       "Pricing                  False\n",
       "Unnamed: 34               True\n",
       "Unnamed: 35               True\n",
       "dtype: bool"
      ]
     },
     "execution_count": 6,
     "metadata": {},
     "output_type": "execute_result"
    }
   ],
   "source": [
    "Kenya_deliveries_df.isnull().any()"
   ]
  },
  {
   "cell_type": "code",
   "execution_count": 7,
   "id": "b1d6976d",
   "metadata": {},
   "outputs": [
    {
     "data": {
      "text/plain": [
       "(Index(['Customer ID', 'Last Used Platform', 'Is Blocked', 'Created At',\n",
       "        'Language', 'Outstanding Amount', 'Loyalty Points',\n",
       "        'Number of Employees'],\n",
       "       dtype='object'),\n",
       " Index(['Order ID', 'Order Status', 'Category Name', 'SKU',\n",
       "        'Customization Group', 'Customization Option', 'Quantity', 'Unit Price',\n",
       "        'Cost Price', 'Total Cost Price', 'Total Price', 'Order Total',\n",
       "        'Sub Total', 'Tax', 'Delivery Charge', 'Tip', 'Discount',\n",
       "        'Remaining Balance', 'Payment Method', 'Additional Charge',\n",
       "        'Taxable Amount', 'Transaction ID', 'Currency Symbol',\n",
       "        'Transaction Status', 'Promo Code', 'Customer ID', 'Merchant ID',\n",
       "        'Store Name', 'Pickup Address', 'Description', 'Distance (in km)',\n",
       "        'Order Time', 'Pickup Time', 'Delivery Time', 'Ratings', 'Reviews',\n",
       "        'Merchant Earning', 'Commission Amount', 'Commission Payout Status',\n",
       "        'Order Preparation Time', 'Redeemed Loyalty Points',\n",
       "        'Consumed Loyalty Points', 'Cancellation Reason', 'Flat Discount',\n",
       "        'Checkout Template Name', 'Checkout Template Value'],\n",
       "       dtype='object'),\n",
       " Index(['Task_ID', 'Order_ID', 'Relationship', 'Team_Name', 'Task_Type',\n",
       "        'Notes', 'Agent_ID', 'Distance(m)', 'Total_Time_Taken(min)',\n",
       "        'Pick_up_From', 'Start_Before', 'Complete_Before', 'Completion_Time',\n",
       "        'Task_Status', 'Ref_Images', 'Rating', 'Review', 'Latitude',\n",
       "        'Longitude', 'Tags', 'Promo_Applied', 'Custom_Template_ID',\n",
       "        'Task_Details_QTY', 'Task_Details_AMOUNT', 'Special_Instructions',\n",
       "        'Tip', 'Delivery_Charges', 'Discount', 'Subtotal', 'Payment_Type',\n",
       "        'Task_Category', 'Earning', 'Pricing'],\n",
       "       dtype='object'))"
      ]
     },
     "execution_count": 7,
     "metadata": {},
     "output_type": "execute_result"
    }
   ],
   "source": [
    "# exploring columns from Nigeria data\n",
    "\n",
    "Nigeria_customer_df.columns, Nigeria_orders_df.columns,Nigeria_deliveries_df.columns"
   ]
  },
  {
   "cell_type": "code",
   "execution_count": 8,
   "id": "337f4ffd",
   "metadata": {},
   "outputs": [
    {
     "data": {
      "text/plain": [
       "(Customer ID                      0\n",
       " Last Used Platform               0\n",
       " Is Blocked                       0\n",
       " Created At                       0\n",
       " Language                         0\n",
       " Outstanding Amount               0\n",
       " Loyalty Points                   0\n",
       " Number of employees           1038\n",
       " Upload restuarant location    4158\n",
       " dtype: int64,\n",
       " Order ID                        0\n",
       " Order Status                    0\n",
       " Category Name                   6\n",
       " SKU                             3\n",
       " Customization Group         12242\n",
       " Customization Option        12242\n",
       " Quantity                        0\n",
       " Unit Price                      0\n",
       " Cost Price                      0\n",
       " Total Cost Price                0\n",
       " Total Price                     0\n",
       " Order Total                     0\n",
       " Sub Total                       0\n",
       " Tax                             0\n",
       " Delivery Charge                 0\n",
       " Tip                             0\n",
       " Discount                        0\n",
       " Remaining Balance               0\n",
       " Payment Method                  0\n",
       " Additional Charge               0\n",
       " Taxable Amount                  0\n",
       " Transaction ID                  0\n",
       " Currency Symbol                 0\n",
       " Transaction Status          12242\n",
       " Promo Code                  12242\n",
       " Customer ID                     0\n",
       " Merchant ID                     0\n",
       " Store Name                      0\n",
       " Pickup Address                  0\n",
       " Description                  7073\n",
       " Distance (in km)                0\n",
       " Order Time                      0\n",
       " Pickup Time                     0\n",
       " Delivery Time                   0\n",
       " Ratings                     12210\n",
       " Reviews                     12229\n",
       " Merchant Earning            12242\n",
       " Commission Amount           12242\n",
       " Commission Payout Status    12242\n",
       " Order Preparation Time          0\n",
       " Debt Amount                     0\n",
       " Redeemed Loyalty Points         0\n",
       " Consumed Loyalty Points         0\n",
       " Cancellation Reason         12242\n",
       " Flat Discount                   0\n",
       " Checkout Template Name          0\n",
       " Checkout Template Value         0\n",
       " dtype: int64,\n",
       " Task_ID                      0\n",
       " Order_ID                     0\n",
       " Relationship                 0\n",
       " Team_Name                    0\n",
       " Task_Type                    0\n",
       " Notes                    31110\n",
       " Agent_ID                     0\n",
       " Agent_Name                   0\n",
       " Distance(m)                  0\n",
       " Total_Time_Taken(min)        0\n",
       " Pick_up_From                 0\n",
       " Start_Before                 0\n",
       " Complete_Before              0\n",
       " Completion_Time              0\n",
       " Task_Status                  0\n",
       " Ref_Images                   0\n",
       " Rating                       0\n",
       " Review                      17\n",
       " Latitude                     0\n",
       " Longitude                    0\n",
       " Tags                     44873\n",
       " Promo_Applied              109\n",
       " Custom_Template_ID           0\n",
       " Task_Details_QTY             0\n",
       " Task_Details_AMOUNT          0\n",
       " Special_Instructions         0\n",
       " Tip                          0\n",
       " Delivery_Charges             0\n",
       " Discount                     0\n",
       " Subtotal                     0\n",
       " Payment_Type                 0\n",
       " Task_Category                0\n",
       " Earning                      0\n",
       " Pricing                      0\n",
       " Unnamed: 34              44874\n",
       " Unnamed: 35              44944\n",
       " dtype: int64)"
      ]
     },
     "execution_count": 8,
     "metadata": {},
     "output_type": "execute_result"
    }
   ],
   "source": [
    "#checking for null values - Kenyan Data\n",
    "\n",
    "Kenya_customer_df.isnull().sum(), Kenya_orders_df.isnull().sum(),Kenya_deliveries_df.isnull().sum()"
   ]
  },
  {
   "cell_type": "code",
   "execution_count": 9,
   "id": "ec382ea4",
   "metadata": {},
   "outputs": [
    {
     "data": {
      "text/plain": [
       "(Customer ID              0\n",
       " Last Used Platform       0\n",
       " Is Blocked               0\n",
       " Created At               0\n",
       " Language                 0\n",
       " Outstanding Amount       0\n",
       " Loyalty Points           0\n",
       " Number of Employees    490\n",
       " dtype: int64,\n",
       " Order ID                       0\n",
       " Order Status                   0\n",
       " Category Name                  0\n",
       " SKU                            0\n",
       " Customization Group         1429\n",
       " Customization Option        1429\n",
       " Quantity                       0\n",
       " Unit Price                     0\n",
       " Cost Price                     0\n",
       " Total Cost Price               0\n",
       " Total Price                    0\n",
       " Order Total                    0\n",
       " Sub Total                      0\n",
       " Tax                            0\n",
       " Delivery Charge                0\n",
       " Tip                            0\n",
       " Discount                       0\n",
       " Remaining Balance              0\n",
       " Payment Method                 0\n",
       " Additional Charge              0\n",
       " Taxable Amount                 0\n",
       " Transaction ID                 0\n",
       " Currency Symbol                0\n",
       " Transaction Status          1429\n",
       " Promo Code                  1429\n",
       " Customer ID                    0\n",
       " Merchant ID                    0\n",
       " Store Name                     0\n",
       " Pickup Address                 0\n",
       " Description                 1429\n",
       " Distance (in km)               0\n",
       " Order Time                     0\n",
       " Pickup Time                    0\n",
       " Delivery Time                  0\n",
       " Ratings                     1429\n",
       " Reviews                     1429\n",
       " Merchant Earning            1429\n",
       " Commission Amount           1429\n",
       " Commission Payout Status    1429\n",
       " Order Preparation Time         0\n",
       " Redeemed Loyalty Points        0\n",
       " Consumed Loyalty Points        0\n",
       " Cancellation Reason         1429\n",
       " Flat Discount                  0\n",
       " Checkout Template Name         0\n",
       " Checkout Template Value        0\n",
       " dtype: int64,\n",
       " Task_ID                     0\n",
       " Order_ID                    0\n",
       " Relationship                0\n",
       " Team_Name                   0\n",
       " Task_Type                   0\n",
       " Notes                    8012\n",
       " Agent_ID                    0\n",
       " Distance(m)                 0\n",
       " Total_Time_Taken(min)       0\n",
       " Pick_up_From                0\n",
       " Start_Before                0\n",
       " Complete_Before             0\n",
       " Completion_Time             0\n",
       " Task_Status                 0\n",
       " Ref_Images                  0\n",
       " Rating                      0\n",
       " Review                      8\n",
       " Latitude                    0\n",
       " Longitude                   0\n",
       " Tags                     8019\n",
       " Promo_Applied               0\n",
       " Custom_Template_ID          0\n",
       " Task_Details_QTY            0\n",
       " Task_Details_AMOUNT         0\n",
       " Special_Instructions        0\n",
       " Tip                         0\n",
       " Delivery_Charges            0\n",
       " Discount                    0\n",
       " Subtotal                    0\n",
       " Payment_Type                0\n",
       " Task_Category               0\n",
       " Earning                     0\n",
       " Pricing                     0\n",
       " dtype: int64)"
      ]
     },
     "execution_count": 9,
     "metadata": {},
     "output_type": "execute_result"
    }
   ],
   "source": [
    "#checking for null values - Nigerian Data\n",
    "\n",
    "Nigeria_customer_df.isnull().sum(), Nigeria_orders_df.isnull().sum(),Nigeria_deliveries_df.isnull().sum()"
   ]
  },
  {
   "cell_type": "code",
   "execution_count": 10,
   "id": "c4f7ade7-ca1f-41a3-abd7-25770f0a2b67",
   "metadata": {},
   "outputs": [
    {
     "data": {
      "text/plain": [
       "(Customer ID              int64\n",
       " Last Used Platform      object\n",
       " Is Blocked               int64\n",
       " Created At              object\n",
       " Language                object\n",
       " Outstanding Amount       int64\n",
       " Loyalty Points           int64\n",
       " Number of Employees    float64\n",
       " dtype: object,\n",
       " Order ID                      int64\n",
       " Order Status                 object\n",
       " Category Name                object\n",
       " SKU                          object\n",
       " Customization Group         float64\n",
       " Customization Option        float64\n",
       " Quantity                      int64\n",
       " Unit Price                    int64\n",
       " Cost Price                    int64\n",
       " Total Cost Price              int64\n",
       " Total Price                   int64\n",
       " Order Total                 float64\n",
       " Sub Total                     int64\n",
       " Tax                          object\n",
       " Delivery Charge              object\n",
       " Tip                          object\n",
       " Discount                     object\n",
       " Remaining Balance             int64\n",
       " Payment Method               object\n",
       " Additional Charge            object\n",
       " Taxable Amount               object\n",
       " Transaction ID                int64\n",
       " Currency Symbol              object\n",
       " Transaction Status          float64\n",
       " Promo Code                  float64\n",
       " Customer ID                   int64\n",
       " Merchant ID                   int64\n",
       " Store Name                   object\n",
       " Pickup Address               object\n",
       " Description                 float64\n",
       " Distance (in km)            float64\n",
       " Order Time                   object\n",
       " Pickup Time                  object\n",
       " Delivery Time                object\n",
       " Ratings                     float64\n",
       " Reviews                     float64\n",
       " Merchant Earning            float64\n",
       " Commission Amount           float64\n",
       " Commission Payout Status    float64\n",
       " Order Preparation Time        int64\n",
       " Redeemed Loyalty Points      object\n",
       " Consumed Loyalty Points      object\n",
       " Cancellation Reason         float64\n",
       " Flat Discount                 int64\n",
       " Checkout Template Name       object\n",
       " Checkout Template Value      object\n",
       " dtype: object,\n",
       " Task_ID                    int64\n",
       " Order_ID                  object\n",
       " Relationship             float64\n",
       " Team_Name                 object\n",
       " Task_Type                 object\n",
       " Notes                     object\n",
       " Agent_ID                  object\n",
       " Distance(m)               object\n",
       " Total_Time_Taken(min)     object\n",
       " Pick_up_From              object\n",
       " Start_Before              object\n",
       " Complete_Before           object\n",
       " Completion_Time           object\n",
       " Task_Status               object\n",
       " Ref_Images                object\n",
       " Rating                     int64\n",
       " Review                    object\n",
       " Latitude                 float64\n",
       " Longitude                float64\n",
       " Tags                     float64\n",
       " Promo_Applied             object\n",
       " Custom_Template_ID        object\n",
       " Task_Details_QTY          object\n",
       " Task_Details_AMOUNT       object\n",
       " Special_Instructions      object\n",
       " Tip                       object\n",
       " Delivery_Charges          object\n",
       " Discount                  object\n",
       " Subtotal                  object\n",
       " Payment_Type              object\n",
       " Task_Category             object\n",
       " Earning                   object\n",
       " Pricing                   object\n",
       " dtype: object)"
      ]
     },
     "execution_count": 10,
     "metadata": {},
     "output_type": "execute_result"
    }
   ],
   "source": [
    "Nigeria_customer_df.dtypes, Nigeria_orders_df.dtypes,Nigeria_deliveries_df.dtypes"
   ]
  },
  {
   "cell_type": "markdown",
   "id": "24c19e4f",
   "metadata": {},
   "source": [
    "From the data its posible to join Customer data with Orders data using the common culumn 'Customer ID', and Orders data with the delivery data using 'Order ID', for both countries. Assuming that the two are uniquely generated"
   ]
  },
  {
   "cell_type": "markdown",
   "id": "4d5704c3",
   "metadata": {},
   "source": [
    "### Data preprocessing"
   ]
  },
  {
   "cell_type": "code",
   "execution_count": 11,
   "id": "5db38387",
   "metadata": {},
   "outputs": [],
   "source": [
    "# renaming column Order ID in Oreders data to match that in deliveries data to ease merging.\n",
    "\n",
    "Kenya_orders_df.rename(columns = {'Order ID':'order_id','Delivery Charge':'Delivery_Charges','Ratings':'Rating','Reviews':'Review'}, inplace = True)\n",
    "Nigeria_orders_df.rename(columns = {'Order ID':'order_id','Delivery Charge':'Delivery_Charges','Ratings':'Rating','Reviews':'Review'}, inplace = True)"
   ]
  },
  {
   "cell_type": "markdown",
   "id": "666a961f",
   "metadata": {},
   "source": [
    "A funtion to extract Order ID from Deliveries data"
   ]
  },
  {
   "cell_type": "code",
   "execution_count": 12,
   "id": "47e4574e",
   "metadata": {},
   "outputs": [],
   "source": [
    "def extract_order_id(data):\n",
    "    '''\n",
    "    - Removes non_numerics characters then remove the last digit from the results.\n",
    "    '''\n",
    "    result = ''.join(re.findall(r'\\d+', data))\n",
    "    Order_ID = result[:-1]\n",
    "    \n",
    "    return Order_ID"
   ]
  },
  {
   "cell_type": "code",
   "execution_count": 13,
   "id": "c55d24cb",
   "metadata": {},
   "outputs": [],
   "source": [
    "# Applying the fuction on Kenya deliveries and dropping Order_ID\n",
    "\n",
    "Kenya_deliveries_df['order_id']=Kenya_deliveries_df['Order_ID'].apply(extract_order_id)\n",
    "Kenya_deliveries_df= Kenya_deliveries_df.drop('Order_ID', 1)\n",
    "\n",
    "\n",
    "# Applying the fuction on Nigeria deliveries and dropping Order_ID\n",
    "\n",
    "Nigeria_deliveries_df['order_id']=Nigeria_deliveries_df['Order_ID'].apply(extract_order_id)\n",
    "Nigeria_deliveries_df= Nigeria_deliveries_df.drop('Order_ID', 1)"
   ]
  },
  {
   "cell_type": "code",
   "execution_count": 14,
   "id": "9b7e24ab",
   "metadata": {},
   "outputs": [
    {
     "data": {
      "text/plain": [
       "((12242, 47), (44983, 36), (4177, 9))"
      ]
     },
     "execution_count": 14,
     "metadata": {},
     "output_type": "execute_result"
    }
   ],
   "source": [
    "Kenya_orders_df.shape,Kenya_deliveries_df.shape,Kenya_customer_df.shape"
   ]
  },
  {
   "cell_type": "markdown",
   "id": "30dc9cd0",
   "metadata": {},
   "source": [
    "### Merging Kenya dataset"
   ]
  },
  {
   "cell_type": "code",
   "execution_count": 15,
   "id": "114ddd9d-71db-42fc-a40f-819dabafcff8",
   "metadata": {},
   "outputs": [
    {
     "data": {
      "text/plain": [
       "4177"
      ]
     },
     "execution_count": 15,
     "metadata": {},
     "output_type": "execute_result"
    }
   ],
   "source": [
    "Kenya_customer_df['Customer ID'].nunique()"
   ]
  },
  {
   "cell_type": "code",
   "execution_count": 16,
   "id": "08e27244-6b25-46f1-ad4f-471cacad723e",
   "metadata": {},
   "outputs": [],
   "source": [
    "# Changing data types of columns from different dataset to merge on\n",
    "\n",
    "Kenya_orders_df['Rating'] = Kenya_orders_df['Rating'].astype(str)\n",
    "Kenya_orders_df['Review'] = Kenya_orders_df['Review'].astype(str)\n",
    "Kenya_deliveries_df['Rating'] = Kenya_deliveries_df['Rating'].astype(str)\n",
    "\n",
    "Nigeria_orders_df['Rating'] = Nigeria_orders_df['Rating'].astype(str)\n",
    "Nigeria_orders_df['Review'] = Nigeria_orders_df['Review'].astype(str)\n",
    "Nigeria_deliveries_df['Rating'] = Nigeria_deliveries_df['Rating'].astype(str)"
   ]
  },
  {
   "cell_type": "markdown",
   "id": "7fe30a4b-8703-4bfb-a845-af312c698b30",
   "metadata": {},
   "source": [
    "- Merged Orders data to Deliveries data then merge to Customer data.\n",
    "- Used left join to return only customers who placed orders, this will help in Retention analysis."
   ]
  },
  {
   "cell_type": "code",
   "execution_count": 17,
   "id": "22c13ebc",
   "metadata": {},
   "outputs": [],
   "source": [
    "# Merging Orders with deliveries.\n",
    "\n",
    "Kenya_orders_df['order_id'] = Kenya_orders_df['order_id'].apply(str)\n",
    "Orders_delivery_kenya_df = pd.merge(Kenya_orders_df, Kenya_deliveries_df, how= \"outer\", on= 'order_id')\n",
    "\n",
    "# merging to customer data.\n",
    "\n",
    "Merged_kenya_data = pd.merge(Kenya_customer_df, Orders_delivery_kenya_df, how = 'left')\n",
    "\n",
    "#creating new column country to help visualize/analyze our as per country.\n",
    "Merged_kenya_data = Merged_kenya_data.assign(country='Kenya')\n"
   ]
  },
  {
   "cell_type": "code",
   "execution_count": 18,
   "id": "10ec5218",
   "metadata": {},
   "outputs": [
    {
     "data": {
      "text/plain": [
       "((98176, 82), (69047, 91))"
      ]
     },
     "execution_count": 18,
     "metadata": {},
     "output_type": "execute_result"
    }
   ],
   "source": [
    "Orders_delivery_kenya_df.shape,Merged_kenya_data.shape,"
   ]
  },
  {
   "cell_type": "code",
   "execution_count": 19,
   "id": "4ec068ce",
   "metadata": {},
   "outputs": [
    {
     "data": {
      "text/plain": [
       "4177"
      ]
     },
     "execution_count": 19,
     "metadata": {},
     "output_type": "execute_result"
    }
   ],
   "source": [
    "#Number of customers from Kenya\n",
    "\n",
    "Merged_kenya_data['Customer ID'].nunique()"
   ]
  },
  {
   "cell_type": "code",
   "execution_count": 20,
   "id": "0a987209-f21a-4751-bd06-8233e0865140",
   "metadata": {},
   "outputs": [
    {
     "data": {
      "text/plain": [
       "3451"
      ]
     },
     "execution_count": 20,
     "metadata": {},
     "output_type": "execute_result"
    }
   ],
   "source": [
    "Merged_kenya_data['order_id'].nunique()"
   ]
  },
  {
   "cell_type": "code",
   "execution_count": 21,
   "id": "8aabb927-a4af-4541-a961-c0479b18fbbc",
   "metadata": {},
   "outputs": [
    {
     "data": {
      "text/plain": [
       "(69047, 91)"
      ]
     },
     "execution_count": 21,
     "metadata": {},
     "output_type": "execute_result"
    }
   ],
   "source": [
    "Merged_kenya_data.shape"
   ]
  },
  {
   "cell_type": "markdown",
   "id": "94db2e98",
   "metadata": {},
   "source": [
    "### Merging Nigeria datasets."
   ]
  },
  {
   "cell_type": "code",
   "execution_count": 22,
   "id": "b297c0fc",
   "metadata": {},
   "outputs": [],
   "source": [
    "# Merging Orders with deliveries.\n",
    "\n",
    "Nigeria_orders_df['order_id'] = Nigeria_orders_df['order_id'].apply(str)\n",
    "Orders_delivery_Nigeria_df = pd.merge(Nigeria_orders_df, Nigeria_deliveries_df, how= \"outer\")\n",
    "\n",
    "# merging to customer data.\n",
    "\n",
    "Merged_Nigeria_data = pd.merge(Nigeria_customer_df, Orders_delivery_Nigeria_df, how = 'left')\n",
    "\n",
    "#creating new column country to help visualize/analyze our as per country.\n",
    "Merged_Nigeria_data = Merged_Nigeria_data.assign(country='Nigeria')"
   ]
  },
  {
   "cell_type": "code",
   "execution_count": 23,
   "id": "4ebc2e9c",
   "metadata": {},
   "outputs": [
    {
     "data": {
      "text/plain": [
       "((9448, 73), (2372, 81))"
      ]
     },
     "execution_count": 23,
     "metadata": {},
     "output_type": "execute_result"
    }
   ],
   "source": [
    "Orders_delivery_Nigeria_df.shape,Merged_Nigeria_data.shape"
   ]
  },
  {
   "cell_type": "code",
   "execution_count": 24,
   "id": "f02b152a",
   "metadata": {},
   "outputs": [
    {
     "data": {
      "text/plain": [
       "1095"
      ]
     },
     "execution_count": 24,
     "metadata": {},
     "output_type": "execute_result"
    }
   ],
   "source": [
    "# number of customers from Nigeria\n",
    "\n",
    "Merged_Nigeria_data['Customer ID'].nunique()"
   ]
  },
  {
   "cell_type": "code",
   "execution_count": 25,
   "id": "d6b80fbf-33a7-4f75-a135-ed3cae12a35f",
   "metadata": {},
   "outputs": [
    {
     "data": {
      "text/plain": [
       "944"
      ]
     },
     "execution_count": 25,
     "metadata": {},
     "output_type": "execute_result"
    }
   ],
   "source": [
    "#total orders Nigeria\n",
    "\n",
    "Merged_Nigeria_data['order_id'].nunique()"
   ]
  },
  {
   "cell_type": "code",
   "execution_count": 26,
   "id": "4c166821-a0c1-44e2-a5cf-6de917ac1f69",
   "metadata": {},
   "outputs": [
    {
     "data": {
      "text/plain": [
       "('2022-02-17T16:36:27.000Z', '2022-02-17T12:03:13.000Z')"
      ]
     },
     "execution_count": 26,
     "metadata": {},
     "output_type": "execute_result"
    }
   ],
   "source": [
    "# Last Kenyan order and Nigeria\n",
    "\n",
    "Kenya_orders_df['Order Time'].max(), Nigeria_orders_df['Order Time'].max()"
   ]
  },
  {
   "cell_type": "code",
   "execution_count": 27,
   "id": "027e5237-5514-4631-a42f-66c63415bca3",
   "metadata": {},
   "outputs": [
    {
     "data": {
      "text/plain": [
       "('2022-01-01T00:59:43.000Z', '2022-01-01T00:59:43.000Z')"
      ]
     },
     "execution_count": 27,
     "metadata": {},
     "output_type": "execute_result"
    }
   ],
   "source": [
    "#First Kenya Order and Nigeria\n",
    "\n",
    "Kenya_orders_df['Order Time'].min(),Kenya_orders_df['Order Time'].min()"
   ]
  },
  {
   "cell_type": "code",
   "execution_count": 28,
   "id": "ea572eb3-c4a9-4cac-b2a2-43c3459a9c7e",
   "metadata": {},
   "outputs": [
    {
     "data": {
      "text/plain": [
       "('31 Oct 2021 11:40:28 am', '31 Oct 2021 06:59:36 pm')"
      ]
     },
     "execution_count": 28,
     "metadata": {},
     "output_type": "execute_result"
    }
   ],
   "source": [
    "# last Kenyan delivery and Nigeria\n",
    "\n",
    "Kenya_deliveries_df['Completion_Time'].max(),Nigeria_deliveries_df['Completion_Time'].max() "
   ]
  },
  {
   "cell_type": "markdown",
   "id": "df9af8b5",
   "metadata": {},
   "source": [
    "### Merging Kenya and Nigeria Dataset"
   ]
  },
  {
   "cell_type": "code",
   "execution_count": 29,
   "id": "08822eca",
   "metadata": {},
   "outputs": [],
   "source": [
    "Merged_df = pd.concat([Merged_kenya_data, Merged_Nigeria_data], axis=0)"
   ]
  },
  {
   "cell_type": "code",
   "execution_count": 30,
   "id": "6c56f2c4",
   "metadata": {},
   "outputs": [
    {
     "data": {
      "text/plain": [
       "(71419, 97)"
      ]
     },
     "execution_count": 30,
     "metadata": {},
     "output_type": "execute_result"
    }
   ],
   "source": [
    "Merged_df.shape"
   ]
  },
  {
   "cell_type": "code",
   "execution_count": 31,
   "id": "8d1480e3",
   "metadata": {},
   "outputs": [
    {
     "data": {
      "text/plain": [
       "False"
      ]
     },
     "execution_count": 31,
     "metadata": {},
     "output_type": "execute_result"
    }
   ],
   "source": [
    "#Total customers from from both countries\n",
    "\n",
    "Merged_df['Customer ID'].isnull().any()"
   ]
  },
  {
   "cell_type": "code",
   "execution_count": 32,
   "id": "ff75fc10-c7bf-4cf2-b877-ef1688b88b5d",
   "metadata": {},
   "outputs": [
    {
     "data": {
      "text/plain": [
       "5272"
      ]
     },
     "execution_count": 32,
     "metadata": {},
     "output_type": "execute_result"
    }
   ],
   "source": [
    "Merged_df['Customer ID'].nunique()"
   ]
  },
  {
   "cell_type": "code",
   "execution_count": 33,
   "id": "9c566b27-d197-4917-a735-a5324eee43b2",
   "metadata": {},
   "outputs": [
    {
     "data": {
      "text/plain": [
       "4395"
      ]
     },
     "execution_count": 33,
     "metadata": {},
     "output_type": "execute_result"
    }
   ],
   "source": [
    "Merged_df['order_id'].nunique()"
   ]
  },
  {
   "cell_type": "code",
   "execution_count": 34,
   "id": "e2ec7219",
   "metadata": {},
   "outputs": [],
   "source": [
    "# saving Merged_df as csv\n",
    "\n",
    "#Merged_df.to_csv('Merged_df.csv')"
   ]
  },
  {
   "cell_type": "markdown",
   "id": "1a05cccf",
   "metadata": {},
   "source": [
    "### Data cleaning"
   ]
  },
  {
   "cell_type": "code",
   "execution_count": 36,
   "id": "a76c21b1-0e8a-4738-9d07-be5777896a34",
   "metadata": {},
   "outputs": [
    {
     "data": {
      "text/html": [
       "<div>\n",
       "<style scoped>\n",
       "    .dataframe tbody tr th:only-of-type {\n",
       "        vertical-align: middle;\n",
       "    }\n",
       "\n",
       "    .dataframe tbody tr th {\n",
       "        vertical-align: top;\n",
       "    }\n",
       "\n",
       "    .dataframe thead th {\n",
       "        text-align: right;\n",
       "    }\n",
       "</style>\n",
       "<table border=\"1\" class=\"dataframe\">\n",
       "  <thead>\n",
       "    <tr style=\"text-align: right;\">\n",
       "      <th></th>\n",
       "      <th>Customer ID</th>\n",
       "      <th>Is Blocked</th>\n",
       "      <th>Outstanding Amount</th>\n",
       "      <th>Loyalty Points</th>\n",
       "      <th>Number of employees</th>\n",
       "      <th>Customization Group</th>\n",
       "      <th>Customization Option</th>\n",
       "      <th>Quantity</th>\n",
       "      <th>Unit Price</th>\n",
       "      <th>Total Price</th>\n",
       "      <th>Order Total</th>\n",
       "      <th>Sub Total</th>\n",
       "      <th>Remaining Balance</th>\n",
       "      <th>Transaction ID</th>\n",
       "      <th>Transaction Status</th>\n",
       "      <th>Promo Code</th>\n",
       "      <th>Merchant ID</th>\n",
       "      <th>Distance (in km)</th>\n",
       "      <th>Merchant Earning</th>\n",
       "      <th>Commission Amount</th>\n",
       "      <th>Commission Payout Status</th>\n",
       "      <th>Order Preparation Time</th>\n",
       "      <th>Cancellation Reason</th>\n",
       "      <th>Flat Discount</th>\n",
       "      <th>Task_ID</th>\n",
       "      <th>Relationship</th>\n",
       "      <th>Longitude</th>\n",
       "      <th>Number of Employees</th>\n",
       "    </tr>\n",
       "  </thead>\n",
       "  <tbody>\n",
       "    <tr>\n",
       "      <th>count</th>\n",
       "      <td>7.141900e+04</td>\n",
       "      <td>71419.000000</td>\n",
       "      <td>71419.0</td>\n",
       "      <td>71419.000000</td>\n",
       "      <td>5.254300e+04</td>\n",
       "      <td>0.0</td>\n",
       "      <td>0.0</td>\n",
       "      <td>66849.000000</td>\n",
       "      <td>66849.000000</td>\n",
       "      <td>6.684900e+04</td>\n",
       "      <td>6.684900e+04</td>\n",
       "      <td>6.684900e+04</td>\n",
       "      <td>66849.0</td>\n",
       "      <td>66849.0</td>\n",
       "      <td>0.0</td>\n",
       "      <td>0.0</td>\n",
       "      <td>6.684900e+04</td>\n",
       "      <td>66849.000000</td>\n",
       "      <td>0.0</td>\n",
       "      <td>0.0</td>\n",
       "      <td>0.0</td>\n",
       "      <td>66849.0</td>\n",
       "      <td>0.0</td>\n",
       "      <td>66849.0</td>\n",
       "      <td>6.540500e+04</td>\n",
       "      <td>6.540500e+04</td>\n",
       "      <td>65405.000000</td>\n",
       "      <td>1.444000e+03</td>\n",
       "    </tr>\n",
       "    <tr>\n",
       "      <th>mean</th>\n",
       "      <td>4.372444e+06</td>\n",
       "      <td>0.001358</td>\n",
       "      <td>0.0</td>\n",
       "      <td>851.391142</td>\n",
       "      <td>3.288319e+05</td>\n",
       "      <td>NaN</td>\n",
       "      <td>NaN</td>\n",
       "      <td>2.984831</td>\n",
       "      <td>1341.215142</td>\n",
       "      <td>3.593658e+03</td>\n",
       "      <td>1.634836e+04</td>\n",
       "      <td>1.639052e+04</td>\n",
       "      <td>0.0</td>\n",
       "      <td>0.0</td>\n",
       "      <td>NaN</td>\n",
       "      <td>NaN</td>\n",
       "      <td>8.968599e+05</td>\n",
       "      <td>269.243530</td>\n",
       "      <td>NaN</td>\n",
       "      <td>NaN</td>\n",
       "      <td>NaN</td>\n",
       "      <td>0.0</td>\n",
       "      <td>NaN</td>\n",
       "      <td>0.0</td>\n",
       "      <td>3.608078e+08</td>\n",
       "      <td>3.608078e+29</td>\n",
       "      <td>36.521066</td>\n",
       "      <td>7.377036e+08</td>\n",
       "    </tr>\n",
       "    <tr>\n",
       "      <th>std</th>\n",
       "      <td>3.676191e+05</td>\n",
       "      <td>0.036829</td>\n",
       "      <td>0.0</td>\n",
       "      <td>1068.055018</td>\n",
       "      <td>3.293408e+07</td>\n",
       "      <td>NaN</td>\n",
       "      <td>NaN</td>\n",
       "      <td>4.183416</td>\n",
       "      <td>3088.102661</td>\n",
       "      <td>2.256586e+04</td>\n",
       "      <td>2.985819e+04</td>\n",
       "      <td>2.999118e+04</td>\n",
       "      <td>0.0</td>\n",
       "      <td>0.0</td>\n",
       "      <td>NaN</td>\n",
       "      <td>NaN</td>\n",
       "      <td>2.236147e+04</td>\n",
       "      <td>1740.479738</td>\n",
       "      <td>NaN</td>\n",
       "      <td>NaN</td>\n",
       "      <td>NaN</td>\n",
       "      <td>0.0</td>\n",
       "      <td>NaN</td>\n",
       "      <td>0.0</td>\n",
       "      <td>4.379579e+06</td>\n",
       "      <td>4.379579e+27</td>\n",
       "      <td>3.372739</td>\n",
       "      <td>2.361461e+09</td>\n",
       "    </tr>\n",
       "    <tr>\n",
       "      <th>min</th>\n",
       "      <td>3.144837e+06</td>\n",
       "      <td>0.000000</td>\n",
       "      <td>0.0</td>\n",
       "      <td>0.000000</td>\n",
       "      <td>-2.000000e+00</td>\n",
       "      <td>NaN</td>\n",
       "      <td>NaN</td>\n",
       "      <td>1.000000</td>\n",
       "      <td>20.000000</td>\n",
       "      <td>2.500000e+01</td>\n",
       "      <td>1.080000e+03</td>\n",
       "      <td>2.000000e+03</td>\n",
       "      <td>0.0</td>\n",
       "      <td>0.0</td>\n",
       "      <td>NaN</td>\n",
       "      <td>NaN</td>\n",
       "      <td>8.935550e+05</td>\n",
       "      <td>0.980000</td>\n",
       "      <td>NaN</td>\n",
       "      <td>NaN</td>\n",
       "      <td>NaN</td>\n",
       "      <td>0.0</td>\n",
       "      <td>NaN</td>\n",
       "      <td>0.0</td>\n",
       "      <td>3.507619e+08</td>\n",
       "      <td>3.507619e+29</td>\n",
       "      <td>-1.300599</td>\n",
       "      <td>1.000000e+00</td>\n",
       "    </tr>\n",
       "    <tr>\n",
       "      <th>25%</th>\n",
       "      <td>4.083504e+06</td>\n",
       "      <td>0.000000</td>\n",
       "      <td>0.0</td>\n",
       "      <td>124.000000</td>\n",
       "      <td>3.000000e+00</td>\n",
       "      <td>NaN</td>\n",
       "      <td>NaN</td>\n",
       "      <td>1.000000</td>\n",
       "      <td>75.000000</td>\n",
       "      <td>2.000000e+02</td>\n",
       "      <td>5.480000e+03</td>\n",
       "      <td>5.530000e+03</td>\n",
       "      <td>0.0</td>\n",
       "      <td>0.0</td>\n",
       "      <td>NaN</td>\n",
       "      <td>NaN</td>\n",
       "      <td>8.935550e+05</td>\n",
       "      <td>5.030000</td>\n",
       "      <td>NaN</td>\n",
       "      <td>NaN</td>\n",
       "      <td>NaN</td>\n",
       "      <td>0.0</td>\n",
       "      <td>NaN</td>\n",
       "      <td>0.0</td>\n",
       "      <td>3.577909e+08</td>\n",
       "      <td>3.577909e+29</td>\n",
       "      <td>36.787904</td>\n",
       "      <td>3.000000e+00</td>\n",
       "    </tr>\n",
       "    <tr>\n",
       "      <th>50%</th>\n",
       "      <td>4.488872e+06</td>\n",
       "      <td>0.000000</td>\n",
       "      <td>0.0</td>\n",
       "      <td>391.000000</td>\n",
       "      <td>5.000000e+00</td>\n",
       "      <td>NaN</td>\n",
       "      <td>NaN</td>\n",
       "      <td>1.000000</td>\n",
       "      <td>250.000000</td>\n",
       "      <td>6.700000e+02</td>\n",
       "      <td>9.683000e+03</td>\n",
       "      <td>9.771000e+03</td>\n",
       "      <td>0.0</td>\n",
       "      <td>0.0</td>\n",
       "      <td>NaN</td>\n",
       "      <td>NaN</td>\n",
       "      <td>8.935550e+05</td>\n",
       "      <td>6.410000</td>\n",
       "      <td>NaN</td>\n",
       "      <td>NaN</td>\n",
       "      <td>NaN</td>\n",
       "      <td>0.0</td>\n",
       "      <td>NaN</td>\n",
       "      <td>0.0</td>\n",
       "      <td>3.614719e+08</td>\n",
       "      <td>3.614719e+29</td>\n",
       "      <td>36.812464</td>\n",
       "      <td>4.000000e+00</td>\n",
       "    </tr>\n",
       "    <tr>\n",
       "      <th>75%</th>\n",
       "      <td>4.689177e+06</td>\n",
       "      <td>0.000000</td>\n",
       "      <td>0.0</td>\n",
       "      <td>1031.000000</td>\n",
       "      <td>8.000000e+00</td>\n",
       "      <td>NaN</td>\n",
       "      <td>NaN</td>\n",
       "      <td>3.000000</td>\n",
       "      <td>1740.000000</td>\n",
       "      <td>2.158000e+03</td>\n",
       "      <td>2.173600e+04</td>\n",
       "      <td>2.185000e+04</td>\n",
       "      <td>0.0</td>\n",
       "      <td>0.0</td>\n",
       "      <td>NaN</td>\n",
       "      <td>NaN</td>\n",
       "      <td>8.935550e+05</td>\n",
       "      <td>11.230000</td>\n",
       "      <td>NaN</td>\n",
       "      <td>NaN</td>\n",
       "      <td>NaN</td>\n",
       "      <td>0.0</td>\n",
       "      <td>NaN</td>\n",
       "      <td>0.0</td>\n",
       "      <td>3.641868e+08</td>\n",
       "      <td>3.641868e+29</td>\n",
       "      <td>36.881860</td>\n",
       "      <td>8.000000e+00</td>\n",
       "    </tr>\n",
       "    <tr>\n",
       "      <th>max</th>\n",
       "      <td>5.189011e+06</td>\n",
       "      <td>1.000000</td>\n",
       "      <td>0.0</td>\n",
       "      <td>23307.000000</td>\n",
       "      <td>7.034704e+09</td>\n",
       "      <td>NaN</td>\n",
       "      <td>NaN</td>\n",
       "      <td>108.000000</td>\n",
       "      <td>62000.000000</td>\n",
       "      <td>1.257000e+06</td>\n",
       "      <td>1.252000e+06</td>\n",
       "      <td>1.257000e+06</td>\n",
       "      <td>0.0</td>\n",
       "      <td>0.0</td>\n",
       "      <td>NaN</td>\n",
       "      <td>NaN</td>\n",
       "      <td>1.048159e+06</td>\n",
       "      <td>12012.180000</td>\n",
       "      <td>NaN</td>\n",
       "      <td>NaN</td>\n",
       "      <td>NaN</td>\n",
       "      <td>0.0</td>\n",
       "      <td>NaN</td>\n",
       "      <td>0.0</td>\n",
       "      <td>3.681058e+08</td>\n",
       "      <td>3.681058e+29</td>\n",
       "      <td>37.050000</td>\n",
       "      <td>9.159746e+09</td>\n",
       "    </tr>\n",
       "  </tbody>\n",
       "</table>\n",
       "</div>"
      ],
      "text/plain": [
       "        Customer ID    Is Blocked  Outstanding Amount  Loyalty Points  \\\n",
       "count  7.141900e+04  71419.000000             71419.0    71419.000000   \n",
       "mean   4.372444e+06      0.001358                 0.0      851.391142   \n",
       "std    3.676191e+05      0.036829                 0.0     1068.055018   \n",
       "min    3.144837e+06      0.000000                 0.0        0.000000   \n",
       "25%    4.083504e+06      0.000000                 0.0      124.000000   \n",
       "50%    4.488872e+06      0.000000                 0.0      391.000000   \n",
       "75%    4.689177e+06      0.000000                 0.0     1031.000000   \n",
       "max    5.189011e+06      1.000000                 0.0    23307.000000   \n",
       "\n",
       "       Number of employees  Customization Group  Customization Option  \\\n",
       "count         5.254300e+04                  0.0                   0.0   \n",
       "mean          3.288319e+05                  NaN                   NaN   \n",
       "std           3.293408e+07                  NaN                   NaN   \n",
       "min          -2.000000e+00                  NaN                   NaN   \n",
       "25%           3.000000e+00                  NaN                   NaN   \n",
       "50%           5.000000e+00                  NaN                   NaN   \n",
       "75%           8.000000e+00                  NaN                   NaN   \n",
       "max           7.034704e+09                  NaN                   NaN   \n",
       "\n",
       "           Quantity    Unit Price   Total Price   Order Total     Sub Total  \\\n",
       "count  66849.000000  66849.000000  6.684900e+04  6.684900e+04  6.684900e+04   \n",
       "mean       2.984831   1341.215142  3.593658e+03  1.634836e+04  1.639052e+04   \n",
       "std        4.183416   3088.102661  2.256586e+04  2.985819e+04  2.999118e+04   \n",
       "min        1.000000     20.000000  2.500000e+01  1.080000e+03  2.000000e+03   \n",
       "25%        1.000000     75.000000  2.000000e+02  5.480000e+03  5.530000e+03   \n",
       "50%        1.000000    250.000000  6.700000e+02  9.683000e+03  9.771000e+03   \n",
       "75%        3.000000   1740.000000  2.158000e+03  2.173600e+04  2.185000e+04   \n",
       "max      108.000000  62000.000000  1.257000e+06  1.252000e+06  1.257000e+06   \n",
       "\n",
       "       Remaining Balance  Transaction ID  Transaction Status  Promo Code  \\\n",
       "count            66849.0         66849.0                 0.0         0.0   \n",
       "mean                 0.0             0.0                 NaN         NaN   \n",
       "std                  0.0             0.0                 NaN         NaN   \n",
       "min                  0.0             0.0                 NaN         NaN   \n",
       "25%                  0.0             0.0                 NaN         NaN   \n",
       "50%                  0.0             0.0                 NaN         NaN   \n",
       "75%                  0.0             0.0                 NaN         NaN   \n",
       "max                  0.0             0.0                 NaN         NaN   \n",
       "\n",
       "        Merchant ID  Distance (in km)  Merchant Earning  Commission Amount  \\\n",
       "count  6.684900e+04      66849.000000               0.0                0.0   \n",
       "mean   8.968599e+05        269.243530               NaN                NaN   \n",
       "std    2.236147e+04       1740.479738               NaN                NaN   \n",
       "min    8.935550e+05          0.980000               NaN                NaN   \n",
       "25%    8.935550e+05          5.030000               NaN                NaN   \n",
       "50%    8.935550e+05          6.410000               NaN                NaN   \n",
       "75%    8.935550e+05         11.230000               NaN                NaN   \n",
       "max    1.048159e+06      12012.180000               NaN                NaN   \n",
       "\n",
       "       Commission Payout Status  Order Preparation Time  Cancellation Reason  \\\n",
       "count                       0.0                 66849.0                  0.0   \n",
       "mean                        NaN                     0.0                  NaN   \n",
       "std                         NaN                     0.0                  NaN   \n",
       "min                         NaN                     0.0                  NaN   \n",
       "25%                         NaN                     0.0                  NaN   \n",
       "50%                         NaN                     0.0                  NaN   \n",
       "75%                         NaN                     0.0                  NaN   \n",
       "max                         NaN                     0.0                  NaN   \n",
       "\n",
       "       Flat Discount       Task_ID  Relationship     Longitude  \\\n",
       "count        66849.0  6.540500e+04  6.540500e+04  65405.000000   \n",
       "mean             0.0  3.608078e+08  3.608078e+29     36.521066   \n",
       "std              0.0  4.379579e+06  4.379579e+27      3.372739   \n",
       "min              0.0  3.507619e+08  3.507619e+29     -1.300599   \n",
       "25%              0.0  3.577909e+08  3.577909e+29     36.787904   \n",
       "50%              0.0  3.614719e+08  3.614719e+29     36.812464   \n",
       "75%              0.0  3.641868e+08  3.641868e+29     36.881860   \n",
       "max              0.0  3.681058e+08  3.681058e+29     37.050000   \n",
       "\n",
       "       Number of Employees  \n",
       "count         1.444000e+03  \n",
       "mean          7.377036e+08  \n",
       "std           2.361461e+09  \n",
       "min           1.000000e+00  \n",
       "25%           3.000000e+00  \n",
       "50%           4.000000e+00  \n",
       "75%           8.000000e+00  \n",
       "max           9.159746e+09  "
      ]
     },
     "execution_count": 36,
     "metadata": {},
     "output_type": "execute_result"
    }
   ],
   "source": [
    "Merged_df.describe()"
   ]
  },
  {
   "cell_type": "markdown",
   "id": "2a4a6115-932b-46c1-a2e1-aa2cf39911eb",
   "metadata": {},
   "source": [
    "* checking for null values"
   ]
  },
  {
   "cell_type": "code",
   "execution_count": 37,
   "id": "540291bd-9296-4f34-be3a-c6a66d3cb7ff",
   "metadata": {},
   "outputs": [
    {
     "data": {
      "text/plain": [
       "Customer ID           False\n",
       "Last Used Platform    False\n",
       "Is Blocked            False\n",
       "Created At            False\n",
       "Language              False\n",
       "                      ...  \n",
       "Delivery_Charges       True\n",
       "Tip                    True\n",
       "Discount               True\n",
       "Rating                 True\n",
       "Review                 True\n",
       "Length: 97, dtype: bool"
      ]
     },
     "execution_count": 37,
     "metadata": {},
     "output_type": "execute_result"
    }
   ],
   "source": [
    "Merged_df.isnull().any()"
   ]
  },
  {
   "cell_type": "code",
   "execution_count": 38,
   "id": "aacf9c60-67d5-4333-aa92-4f1f0f6ab0a8",
   "metadata": {},
   "outputs": [
    {
     "data": {
      "text/plain": [
       "(True, True)"
      ]
     },
     "execution_count": 38,
     "metadata": {},
     "output_type": "execute_result"
    }
   ],
   "source": [
    "Merged_df.order_id.isnull().any(), Merged_df['Order Time'].isnull().any()"
   ]
  },
  {
   "cell_type": "code",
   "execution_count": 39,
   "id": "2d695ac3-ab44-4185-a558-8e72a1757747",
   "metadata": {},
   "outputs": [],
   "source": [
    "# Drop all nulls Order_id or Order Time\n",
    "\n",
    "Merged_df = Merged_df.dropna(subset=['order_id', 'Order Time'], how='all')"
   ]
  },
  {
   "cell_type": "code",
   "execution_count": 40,
   "id": "44c9860e",
   "metadata": {},
   "outputs": [],
   "source": [
    "# Returning the necessary columns\n",
    "\n",
    "Merged_data = Merged_df[['Customer ID','order_id','Category Name','Order Status','Last Used Platform',\n",
    "                        'Quantity','Total Price', 'Order Total','Loyalty Points',\n",
    "                       'Additional Charge','Transaction ID','country','Order Time',\n",
    "                       'Delivery Time','Debt Amount','Team_Name','Agent_ID']]"
   ]
  },
  {
   "cell_type": "code",
   "execution_count": 41,
   "id": "9e853730",
   "metadata": {},
   "outputs": [
    {
     "data": {
      "text/plain": [
       "Customer ID              0\n",
       "order_id                 0\n",
       "Category Name           33\n",
       "Order Status             0\n",
       "Last Used Platform       0\n",
       "Quantity                 0\n",
       "Total Price              0\n",
       "Order Total              0\n",
       "Loyalty Points           0\n",
       "Additional Charge        0\n",
       "Transaction ID           0\n",
       "country                  0\n",
       "Order Time               0\n",
       "Delivery Time            0\n",
       "Debt Amount           1429\n",
       "Team_Name             1444\n",
       "Agent_ID              1444\n",
       "dtype: int64"
      ]
     },
     "execution_count": 41,
     "metadata": {},
     "output_type": "execute_result"
    }
   ],
   "source": [
    "Merged_data.isna().sum()"
   ]
  },
  {
   "cell_type": "code",
   "execution_count": 42,
   "id": "61c5ad9e-7083-4be0-b1be-f1221185a57b",
   "metadata": {},
   "outputs": [
    {
     "data": {
      "text/plain": [
       "702"
      ]
     },
     "execution_count": 42,
     "metadata": {},
     "output_type": "execute_result"
    }
   ],
   "source": [
    "Merged_data['Customer ID'].nunique()"
   ]
  },
  {
   "cell_type": "code",
   "execution_count": 43,
   "id": "412475d4-899d-4164-88e5-07d8888353fd",
   "metadata": {},
   "outputs": [
    {
     "data": {
      "text/plain": [
       "(array([nan, 'KSh'], dtype=object), array([nan, '₦'], dtype=object))"
      ]
     },
     "execution_count": 43,
     "metadata": {},
     "output_type": "execute_result"
    }
   ],
   "source": [
    "#checking currency symbols within datasets.\n",
    "\n",
    "Merged_kenya_data['Currency Symbol'].unique(), Merged_Nigeria_data['Currency Symbol'].unique()"
   ]
  },
  {
   "cell_type": "markdown",
   "id": "44abfd4e-e3dc-4aed-be71-986e8b793a21",
   "metadata": {},
   "source": [
    "### EDA"
   ]
  },
  {
   "cell_type": "code",
   "execution_count": 44,
   "id": "101fb4f5",
   "metadata": {},
   "outputs": [],
   "source": [
    "# Converting columns to datetime and extracting yyy-mm-dd.\n",
    "\n",
    "Merged_data[[\"Order Time\", \"Delivery Time\"]] = Merged_data[[\"Order Time\", \"Delivery Time\"]].apply(pd.to_datetime)\n",
    "Merged_data['Order_date'] = pd.to_datetime(Merged_data['Order Time'].dt.strftime('%Y-%m-%d'))\n",
    "Merged_data['month_year'] = Merged_data['Order_date'].dt.to_period('M')"
   ]
  },
  {
   "cell_type": "code",
   "execution_count": 45,
   "id": "a7a76701-ae53-4219-a513-f2b93999900b",
   "metadata": {},
   "outputs": [
    {
     "data": {
      "text/plain": [
       "('2021-04-21T07:15:56.000Z', Timestamp('2022-01-01 00:59:43+0000', tz='UTC'))"
      ]
     },
     "execution_count": 45,
     "metadata": {},
     "output_type": "execute_result"
    }
   ],
   "source": [
    "Merged_df['Created At'].min(),Merged_data['Order Time'].min()"
   ]
  },
  {
   "cell_type": "code",
   "execution_count": 46,
   "id": "b21c8ae3-2432-41ff-8f99-692b98369723",
   "metadata": {},
   "outputs": [],
   "source": [
    "Merged_data['month_year'] = Merged_data['month_year'].astype(str)\n",
    "Merged_data['month_year'] = pd.to_datetime(Merged_data['month_year'])"
   ]
  },
  {
   "cell_type": "code",
   "execution_count": 47,
   "id": "3520cf3f",
   "metadata": {},
   "outputs": [
    {
     "name": "stdout",
     "output_type": "stream",
     "text": [
      "<class 'pandas.core.frame.DataFrame'>\n",
      "Int64Index: 66849 entries, 32 to 2371\n",
      "Data columns (total 19 columns):\n",
      " #   Column              Non-Null Count  Dtype              \n",
      "---  ------              --------------  -----              \n",
      " 0   Customer ID         66849 non-null  int64              \n",
      " 1   order_id            66849 non-null  object             \n",
      " 2   Category Name       66816 non-null  object             \n",
      " 3   Order Status        66849 non-null  object             \n",
      " 4   Last Used Platform  66849 non-null  object             \n",
      " 5   Quantity            66849 non-null  float64            \n",
      " 6   Total Price         66849 non-null  float64            \n",
      " 7   Order Total         66849 non-null  float64            \n",
      " 8   Loyalty Points      66849 non-null  int64              \n",
      " 9   Additional Charge   66849 non-null  object             \n",
      " 10  Transaction ID      66849 non-null  float64            \n",
      " 11  country             66849 non-null  object             \n",
      " 12  Order Time          66849 non-null  datetime64[ns, UTC]\n",
      " 13  Delivery Time       66849 non-null  datetime64[ns, UTC]\n",
      " 14  Debt Amount         65420 non-null  object             \n",
      " 15  Team_Name           65405 non-null  object             \n",
      " 16  Agent_ID            65405 non-null  object             \n",
      " 17  Order_date          66849 non-null  datetime64[ns]     \n",
      " 18  month_year          66849 non-null  datetime64[ns]     \n",
      "dtypes: datetime64[ns, UTC](2), datetime64[ns](2), float64(4), int64(2), object(9)\n",
      "memory usage: 10.2+ MB\n"
     ]
    }
   ],
   "source": [
    "Merged_data.info()"
   ]
  },
  {
   "cell_type": "code",
   "execution_count": 48,
   "id": "070c2acc",
   "metadata": {},
   "outputs": [
    {
     "data": {
      "image/png": "[encoded data removed]",
      "text/plain": [
       "<Figure size 432x288 with 1 Axes>"
      ]
     },
     "metadata": {
      "needs_background": "light"
     },
     "output_type": "display_data"
    }
   ],
   "source": [
    "ax= sns.countplot(Merged_data['Order Status'],hue=Merged_data['country'])\n",
    "plt.title('Visualizing Order Status')\n",
    "ax.bar_label(ax.containers[0])\n",
    "ax.bar_label(ax.containers[1])\n",
    "plt.xlabel('Order status')\n",
    "plt.ylabel('Total no. of orders')\n",
    "ax.legend(bbox_to_anchor=(1,0.8))\n",
    "plt.ticklabel_format(style='plain', axis='y')\n",
    "#plt.savefig('Order statuses between two countries.png',bbox_inches='tight')"
   ]
  },
  {
   "cell_type": "code",
   "execution_count": 49,
   "id": "95a4e025-aab0-41aa-b6fc-bf25d3ba692b",
   "metadata": {},
   "outputs": [
    {
     "data": {
      "text/plain": [
       "Text(0.5, 1.0, 'Categories performance')"
      ]
     },
     "execution_count": 49,
     "metadata": {},
     "output_type": "execute_result"
    },
    {
     "data": {
      "image/png": "[encoded data removed]",
      "text/plain": [
       "<Figure size 432x288 with 1 Axes>"
      ]
     },
     "metadata": {
      "needs_background": "light"
     },
     "output_type": "display_data"
    }
   ],
   "source": [
    "# visualizing Category performances per country\n",
    "\n",
    "sns.countplot(Merged_data['Category Name'], hue= Merged_data['country'])\n",
    "plt.legend(bbox_to_anchor=(1,0.8))\n",
    "plt.xticks(rotation=90)\n",
    "plt.title('Categories performance')\n",
    "#plt.savefig('Category performaances per country.png',bbox_inches='tight')"
   ]
  },
  {
   "cell_type": "code",
   "execution_count": 50,
   "id": "a529cad0-e6d2-4b59-af75-72d9b4561dda",
   "metadata": {},
   "outputs": [
    {
     "data": {
      "text/plain": [
       "<AxesSubplot:xlabel='Last Used Platform', ylabel='count'>"
      ]
     },
     "execution_count": 50,
     "metadata": {},
     "output_type": "execute_result"
    },
    {
     "data": {
      "image/png": "[encoded data removed]",
      "text/plain": [
       "<Figure size 432x288 with 1 Axes>"
      ]
     },
     "metadata": {
      "needs_background": "light"
     },
     "output_type": "display_data"
    }
   ],
   "source": [
    "# visualizing Platforms used by customers\n",
    "\n",
    "sns.countplot(Merged_data['Last Used Platform'],hue= Merged_data['country'])\n",
    "#plt.savefig('Platforms used per country.png',bbox_inches='tight')"
   ]
  },
  {
   "cell_type": "markdown",
   "id": "30347d08-35f2-4441-aec0-e7b00b8ece27",
   "metadata": {},
   "source": [
    "There is only one single record for the above, probably this could be improved to understand what majority of customers are using. This could intern help in marketing strategy."
   ]
  },
  {
   "cell_type": "markdown",
   "id": "9a2cb702-f299-4839-9ef6-e01eb41ae1f5",
   "metadata": {},
   "source": [
    "* checking for outliers"
   ]
  },
  {
   "cell_type": "code",
   "execution_count": 51,
   "id": "7d20a10c-cd23-427c-acc8-20b6c6560cac",
   "metadata": {},
   "outputs": [
    {
     "data": {
      "image/png": "[encoded data removed]",
      "text/plain": [
       "<Figure size 432x288 with 1 Axes>"
      ]
     },
     "metadata": {
      "needs_background": "light"
     },
     "output_type": "display_data"
    }
   ],
   "source": [
    "sns.boxplot(data=Merged_data[Merged_data[\"country\"]==\"Kenya\"],x=\"Category Name\", y= \"Total Price\")\n",
    "plt.ylabel('Total prices in Ksh')\n",
    "plt.xticks(rotation=45)\n",
    "plt.show()"
   ]
  },
  {
   "cell_type": "code",
   "execution_count": 52,
   "id": "84626325-dd25-4427-97d5-1b8d959fecf0",
   "metadata": {},
   "outputs": [
    {
     "data": {
      "image/png": "[encoded data removed]",
      "text/plain": [
       "<Figure size 432x288 with 1 Axes>"
      ]
     },
     "metadata": {
      "needs_background": "light"
     },
     "output_type": "display_data"
    }
   ],
   "source": [
    "sns.boxplot(data=Merged_data[Merged_data[\"country\"]==\"Nigeria\"],x=\"Category Name\", y= \"Total Price\")\n",
    "plt.ylabel('Total prices in Naira')\n",
    "plt.xticks(rotation=45)\n",
    "plt.show()"
   ]
  },
  {
   "cell_type": "markdown",
   "id": "761e1629-8f31-453e-b3c0-2a1c9ed99703",
   "metadata": {},
   "source": [
    "### CHECKING FOR SEASONALITY ACROSS COUNTRIES"
   ]
  },
  {
   "cell_type": "code",
   "execution_count": 53,
   "id": "dc9a7e34",
   "metadata": {},
   "outputs": [],
   "source": [
    "customer_df= Merged_data.groupby(['country','month_year',]).agg({'Customer ID':'count','order_id':'count','Total Price':'sum'})\n",
    "customer_distribution_df= customer_df.reset_index()"
   ]
  },
  {
   "cell_type": "code",
   "execution_count": 54,
   "id": "e0f5f9ae-e29e-4518-b7ff-c023a14168fc",
   "metadata": {},
   "outputs": [
    {
     "data": {
      "image/png": "[encoded data removed]",
      "text/plain": [
       "<Figure size 1080x432 with 4 Axes>"
      ]
     },
     "metadata": {
      "needs_background": "light"
     },
     "output_type": "display_data"
    }
   ],
   "source": [
    "#visualizing the General season patterns for the business\n",
    "\n",
    "f, axes =  plt.subplots(2, 2, figsize=(15, 6),gridspec_kw={'hspace': 0.8, 'wspace': 0.5})\n",
    "plt.suptitle('General sales distribution)')\n",
    "axes.flat[-1].set_visible(False)\n",
    "\n",
    "ax=sns.lineplot(data=customer_distribution_df,x='month_year', y= 'Total Price', hue= 'country', ax=axes[0,0])\n",
    "ax.set_title('Total amounts per month across years')\n",
    "ax.tick_params('x', labelrotation=20)\n",
    "\n",
    "ax=sns.lineplot(data=customer_distribution_df,x='month_year', y= 'Customer ID', hue= 'country', ax=axes[0,1])\n",
    "ax.set_title('Total customers per month across years')\n",
    "ax.tick_params('x', labelrotation=20)\n",
    "\n",
    "ax=sns.lineplot(data=customer_distribution_df,x='month_year', y= 'order_id', hue= 'country', ax=axes[1,0])\n",
    "ax.set_title('Total number of orders per month across years')\n",
    "ax.tick_params('x', labelrotation=20)\n",
    "\n",
    "#plt.savefig('General season patterns.png',bbox_inches='tight')"
   ]
  },
  {
   "cell_type": "markdown",
   "id": "641c68ec-27a0-4370-8025-6160843e7da2",
   "metadata": {},
   "source": [
    "* Products seasons"
   ]
  },
  {
   "cell_type": "markdown",
   "id": "cca0b341-38b8-4dee-b1d3-9a98dcbafc19",
   "metadata": {},
   "source": [
    "### Corhort Analysis"
   ]
  },
  {
   "cell_type": "code",
   "execution_count": null,
   "id": "8247f6e4-851c-410f-a1c0-dd17f4ab2bfe",
   "metadata": {},
   "outputs": [],
   "source": []
  },
  {
   "cell_type": "code",
   "execution_count": 56,
   "id": "7009f41e",
   "metadata": {},
   "outputs": [],
   "source": [
    "# A function to parse the date Time based cohort:  first day of month\n",
    "def get_month(x): \n",
    "    return date.datetime(x.year, x.month, 1)\n",
    "\n",
    "# Create transaction_date column based on month\n",
    "Merged_data['TransactionMonth'] = Merged_data['Order Time'].apply(get_month) \n",
    "\n",
    "# Grouping by customer_id and Transaction month to select all the months customer made purchases\n",
    "grouping = Merged_data.groupby('Customer ID')['TransactionMonth']\n",
    "\n",
    "# Assigning a minimum purchase/order date to the dataset.\n",
    "Merged_data['CohortMonth'] = grouping.transform('min')\n",
    "\n",
    "# # printing top 5 rows\n",
    "#Merged_data.sample(2)"
   ]
  },
  {
   "cell_type": "code",
   "execution_count": 57,
   "id": "984e94c2-714b-465b-8abd-92e83a09e907",
   "metadata": {},
   "outputs": [],
   "source": [
    "def diff_month(x):\n",
    "    \"\"\"\n",
    "    Function to calculate years_diff and months_diff\n",
    "    \"\"\"\n",
    "    x1 = x['TransactionMonth']\n",
    "\n",
    "    x2 = x[\"CohortMonth\"]\n",
    "\n",
    "    return ((x1.year - x2.year) * 12 + x1.month - x2.month)+1\n",
    "\n",
    "\n",
    "Merged_data['cohort_idx'] = Merged_data.apply(lambda x: diff_month(x), axis=1)\n",
    "\n",
    "#Merged_data"
   ]
  },
  {
   "cell_type": "code",
   "execution_count": 58,
   "id": "2c7a100c-a917-477a-98e8-6755785abc8e",
   "metadata": {},
   "outputs": [
    {
     "data": {
      "text/html": [
       "<div>\n",
       "<style scoped>\n",
       "    .dataframe tbody tr th:only-of-type {\n",
       "        vertical-align: middle;\n",
       "    }\n",
       "\n",
       "    .dataframe tbody tr th {\n",
       "        vertical-align: top;\n",
       "    }\n",
       "\n",
       "    .dataframe thead th {\n",
       "        text-align: right;\n",
       "    }\n",
       "</style>\n",
       "<table border=\"1\" class=\"dataframe\">\n",
       "  <thead>\n",
       "    <tr style=\"text-align: right;\">\n",
       "      <th></th>\n",
       "      <th>CohortMonth</th>\n",
       "      <th>cohort_idx</th>\n",
       "      <th>Customer ID</th>\n",
       "    </tr>\n",
       "  </thead>\n",
       "  <tbody>\n",
       "    <tr>\n",
       "      <th>0</th>\n",
       "      <td>2022-01-01</td>\n",
       "      <td>1</td>\n",
       "      <td>557</td>\n",
       "    </tr>\n",
       "    <tr>\n",
       "      <th>1</th>\n",
       "      <td>2022-01-01</td>\n",
       "      <td>2</td>\n",
       "      <td>344</td>\n",
       "    </tr>\n",
       "    <tr>\n",
       "      <th>2</th>\n",
       "      <td>2022-02-01</td>\n",
       "      <td>1</td>\n",
       "      <td>145</td>\n",
       "    </tr>\n",
       "  </tbody>\n",
       "</table>\n",
       "</div>"
      ],
      "text/plain": [
       "  CohortMonth  cohort_idx  Customer ID\n",
       "0  2022-01-01           1          557\n",
       "1  2022-01-01           2          344\n",
       "2  2022-02-01           1          145"
      ]
     },
     "execution_count": 58,
     "metadata": {},
     "output_type": "execute_result"
    }
   ],
   "source": [
    "# grouping with cohortmonth and cohortindex to get total of users per cohortindex\n",
    "grouping = Merged_data.groupby(['CohortMonth', 'cohort_idx'])\n",
    "\n",
    "# Counting number of unique customer Id's\n",
    "cohort_data = grouping['Customer ID'].apply(pd.Series.nunique)\n",
    "cohort_data = cohort_data.reset_index()\n",
    "\n",
    "# Assigning column names to the dataframe created above\n",
    "cohort_counts = cohort_data.pivot(index='CohortMonth',\n",
    "                                 columns ='cohort_idx',\n",
    "                                 values = 'Customer ID')\n",
    "\n",
    "cohort_data"
   ]
  },
  {
   "cell_type": "code",
   "execution_count": 59,
   "id": "0188c4c8-4127-46d8-9cfd-0f87ebfc29c2",
   "metadata": {},
   "outputs": [
    {
     "data": {
      "text/plain": [
       "Text(32.999999999999986, 0.5, 'First Purchase Cohort')"
      ]
     },
     "execution_count": 59,
     "metadata": {},
     "output_type": "execute_result"
    },
    {
     "data": {
      "image/png": "[encoded data removed]",
      "text/plain": [
       "<Figure size 432x288 with 2 Axes>"
      ]
     },
     "metadata": {
      "needs_background": "light"
     },
     "output_type": "display_data"
    }
   ],
   "source": [
    "cohort_sizes = cohort_counts.iloc[:,0]\n",
    "retention = cohort_counts.divide(cohort_sizes, axis=0)\n",
    "# Coverting the retention rate into percentage and Rounding off.\n",
    "retention.round(3)*100\n",
    "\n",
    "sns.heatmap(retention, annot=True, fmt='.0%')\n",
    "plt.title('Retention rates', fontsize = 20)\n",
    "plt.xlabel('MonthS After first purchase')\n",
    "plt.ylabel('First Purchase Cohort')\n",
    "#plt.savefig(\"active credit months region.png\", bbox_inches='tight')"
   ]
  },
  {
   "cell_type": "code",
   "execution_count": 60,
   "id": "6a73845c-d3ec-4af3-9253-41c2c1759a8e",
   "metadata": {},
   "outputs": [
    {
     "data": {
      "image/png": "[encoded data removed]",
      "text/plain": [
       "<Figure size 504x432 with 2 Axes>"
      ]
     },
     "metadata": {
      "needs_background": "light"
     },
     "output_type": "display_data"
    }
   ],
   "source": [
    "#Average quantity for each cohort\n",
    "\n",
    "grouping = Merged_data.groupby(['CohortMonth', 'cohort_idx'])\n",
    "cohort_data = grouping['Quantity'].mean()\n",
    "cohort_data = cohort_data.reset_index()\n",
    "average_quantity = cohort_data.pivot(index='CohortMonth',columns='cohort_idx',values='Quantity')\n",
    "average_quantity.round(1)\n",
    "average_quantity.index = average_quantity.index.date\n",
    "\n",
    "#Build the heatmap\n",
    "plt.figure(figsize=(7, 6))\n",
    "plt.title('Average quantity for each cohort')\n",
    "sns.heatmap(data=average_quantity,annot = True)\n",
    "plt.savefig(\"AVG. Quantity.png\", bbox_inches='tight')\n",
    "plt.show()"
   ]
  },
  {
   "cell_type": "markdown",
   "id": "fd1a282a-c885-4e08-9749-3f70c28750d5",
   "metadata": {},
   "source": [
    "### customer classification"
   ]
  },
  {
   "cell_type": "code",
   "execution_count": 62,
   "id": "7d865005-74f0-45d7-b121-a952b588a252",
   "metadata": {},
   "outputs": [
    {
     "data": {
      "text/html": [
       "<div>\n",
       "<style scoped>\n",
       "    .dataframe tbody tr th:only-of-type {\n",
       "        vertical-align: middle;\n",
       "    }\n",
       "\n",
       "    .dataframe tbody tr th {\n",
       "        vertical-align: top;\n",
       "    }\n",
       "\n",
       "    .dataframe thead th {\n",
       "        text-align: right;\n",
       "    }\n",
       "</style>\n",
       "<table border=\"1\" class=\"dataframe\">\n",
       "  <thead>\n",
       "    <tr style=\"text-align: right;\">\n",
       "      <th></th>\n",
       "      <th>Customer ID</th>\n",
       "      <th>order_id</th>\n",
       "      <th>Category Name</th>\n",
       "      <th>Order Status</th>\n",
       "      <th>Last Used Platform</th>\n",
       "      <th>Quantity</th>\n",
       "      <th>Total Price</th>\n",
       "      <th>Order Total</th>\n",
       "      <th>Loyalty Points</th>\n",
       "      <th>Additional Charge</th>\n",
       "      <th>Transaction ID</th>\n",
       "      <th>country</th>\n",
       "      <th>Order Time</th>\n",
       "      <th>Delivery Time</th>\n",
       "      <th>Debt Amount</th>\n",
       "      <th>Team_Name</th>\n",
       "      <th>Agent_ID</th>\n",
       "      <th>Order_date</th>\n",
       "      <th>month_year</th>\n",
       "      <th>TransactionMonth</th>\n",
       "      <th>CohortMonth</th>\n",
       "      <th>cohort_idx</th>\n",
       "    </tr>\n",
       "  </thead>\n",
       "  <tbody>\n",
       "    <tr>\n",
       "      <th>32</th>\n",
       "      <td>3365019</td>\n",
       "      <td>11155410</td>\n",
       "      <td>Cooking Fat &amp; Oil</td>\n",
       "      <td>COMPLETED</td>\n",
       "      <td>WEB</td>\n",
       "      <td>1.0</td>\n",
       "      <td>4320.0</td>\n",
       "      <td>6470.0</td>\n",
       "      <td>68</td>\n",
       "      <td>-</td>\n",
       "      <td>0.0</td>\n",
       "      <td>Kenya</td>\n",
       "      <td>2022-02-11 20:02:56+00:00</td>\n",
       "      <td>2022-02-12 08:00:00+00:00</td>\n",
       "      <td>-</td>\n",
       "      <td>Default Team</td>\n",
       "      <td>1092535</td>\n",
       "      <td>2022-02-11</td>\n",
       "      <td>2022-02-01</td>\n",
       "      <td>2022-02-01</td>\n",
       "      <td>2022-02-01</td>\n",
       "      <td>1</td>\n",
       "    </tr>\n",
       "  </tbody>\n",
       "</table>\n",
       "</div>"
      ],
      "text/plain": [
       "    Customer ID  order_id      Category Name Order Status Last Used Platform  \\\n",
       "32      3365019  11155410  Cooking Fat & Oil    COMPLETED                WEB   \n",
       "\n",
       "    Quantity  Total Price  Order Total  Loyalty Points Additional Charge  \\\n",
       "32       1.0       4320.0       6470.0              68                 -   \n",
       "\n",
       "    Transaction ID country                Order Time  \\\n",
       "32             0.0   Kenya 2022-02-11 20:02:56+00:00   \n",
       "\n",
       "               Delivery Time Debt Amount     Team_Name Agent_ID Order_date  \\\n",
       "32 2022-02-12 08:00:00+00:00           -  Default Team  1092535 2022-02-11   \n",
       "\n",
       "   month_year TransactionMonth CohortMonth  cohort_idx  \n",
       "32 2022-02-01       2022-02-01  2022-02-01           1  "
      ]
     },
     "execution_count": 62,
     "metadata": {},
     "output_type": "execute_result"
    }
   ],
   "source": [
    "Merged_data.head(1)"
   ]
  },
  {
   "cell_type": "code",
   "execution_count": 70,
   "id": "5c719f76-406a-413e-8c4d-fa3015abbeee",
   "metadata": {},
   "outputs": [
    {
     "data": {
      "text/html": [
       "<div>\n",
       "<style scoped>\n",
       "    .dataframe tbody tr th:only-of-type {\n",
       "        vertical-align: middle;\n",
       "    }\n",
       "\n",
       "    .dataframe tbody tr th {\n",
       "        vertical-align: top;\n",
       "    }\n",
       "\n",
       "    .dataframe thead th {\n",
       "        text-align: right;\n",
       "    }\n",
       "</style>\n",
       "<table border=\"1\" class=\"dataframe\">\n",
       "  <thead>\n",
       "    <tr style=\"text-align: right;\">\n",
       "      <th></th>\n",
       "      <th>Customer ID</th>\n",
       "      <th>order_id</th>\n",
       "      <th>Order_date</th>\n",
       "      <th>Order Total</th>\n",
       "      <th>Loyalty Points</th>\n",
       "    </tr>\n",
       "  </thead>\n",
       "  <tbody>\n",
       "    <tr>\n",
       "      <th>32</th>\n",
       "      <td>3365019</td>\n",
       "      <td>11155410</td>\n",
       "      <td>2022-02-11</td>\n",
       "      <td>6470.0</td>\n",
       "      <td>68</td>\n",
       "    </tr>\n",
       "  </tbody>\n",
       "</table>\n",
       "</div>"
      ],
      "text/plain": [
       "    Customer ID  order_id Order_date  Order Total  Loyalty Points\n",
       "32      3365019  11155410 2022-02-11       6470.0              68"
      ]
     },
     "execution_count": 70,
     "metadata": {},
     "output_type": "execute_result"
    }
   ],
   "source": [
    "#Returning customer_df data with only columns of interest.\n",
    "\n",
    "customer_df =Merged_data[[\"Customer ID\", \"order_id\",\"Order_date\", \"Order Total\",\"Loyalty Points\"]]\n",
    "customer_df.head(1)"
   ]
  },
  {
   "cell_type": "code",
   "execution_count": 80,
   "id": "1e646e72-fd17-4c54-bffb-4bffa6439841",
   "metadata": {},
   "outputs": [],
   "source": [
    "snapshot_date = max(customer_df.Order_date) + date.timedelta(days=1)\n",
    "# Aggregate data by each customer\n",
    "customers = customer_df.groupby(['Customer ID','Loyalty Points']).agg({\n",
    "    'Order_date': lambda x: (snapshot_date - x.max()).days,\n",
    "    'order_id': 'count',\n",
    "    'Order Total': 'sum'})\n",
    "# Rename columns\n",
    "customers.rename(columns = {'Order_date': 'Recency',\n",
    "                            'order_id': 'Frequency',\n",
    "                            'Order Total': 'MonetaryValue'},inplace=True)"
   ]
  },
  {
   "cell_type": "code",
   "execution_count": 83,
   "id": "251a27d4-aa67-4191-a01a-2a672d118c88",
   "metadata": {},
   "outputs": [
    {
     "data": {
      "text/html": [
       "<div>\n",
       "<style scoped>\n",
       "    .dataframe tbody tr th:only-of-type {\n",
       "        vertical-align: middle;\n",
       "    }\n",
       "\n",
       "    .dataframe tbody tr th {\n",
       "        vertical-align: top;\n",
       "    }\n",
       "\n",
       "    .dataframe thead th {\n",
       "        text-align: right;\n",
       "    }\n",
       "</style>\n",
       "<table border=\"1\" class=\"dataframe\">\n",
       "  <thead>\n",
       "    <tr style=\"text-align: right;\">\n",
       "      <th></th>\n",
       "      <th>Customer ID</th>\n",
       "      <th>Loyalty Points</th>\n",
       "      <th>Recency</th>\n",
       "      <th>Frequency</th>\n",
       "      <th>MonetaryValue</th>\n",
       "    </tr>\n",
       "  </thead>\n",
       "  <tbody>\n",
       "    <tr>\n",
       "      <th>0</th>\n",
       "      <td>3365019</td>\n",
       "      <td>68</td>\n",
       "      <td>7</td>\n",
       "      <td>10</td>\n",
       "      <td>62510.0</td>\n",
       "    </tr>\n",
       "  </tbody>\n",
       "</table>\n",
       "</div>"
      ],
      "text/plain": [
       "   Customer ID  Loyalty Points  Recency  Frequency  MonetaryValue\n",
       "0      3365019              68        7         10        62510.0"
      ]
     },
     "execution_count": 83,
     "metadata": {},
     "output_type": "execute_result"
    }
   ],
   "source": [
    "customer=customers.reset_index()\n",
    "customer.head(1)"
   ]
  },
  {
   "cell_type": "code",
   "execution_count": 85,
   "id": "3785a516-d612-408d-bde9-f1c61ae0c404",
   "metadata": {},
   "outputs": [],
   "source": [
    "# Import library\n",
    "from sklearn.preprocessing import StandardScaler\n",
    "\n",
    "# Initialize the Object\n",
    "scaler = StandardScaler()\n",
    "\n",
    "# Fit and Transform The Data\n",
    "\n",
    "scaler.fit(customers)\n",
    "customers_normalized = scaler.transform(customers)"
   ]
  },
  {
   "cell_type": "code",
   "execution_count": 86,
   "id": "705db912-b4fc-4108-8568-baa127a66e3e",
   "metadata": {},
   "outputs": [
    {
     "data": {
      "image/png": "[encoded data removed]",
      "text/plain": [
       "<Figure size 432x288 with 1 Axes>"
      ]
     },
     "metadata": {
      "needs_background": "light"
     },
     "output_type": "display_data"
    }
   ],
   "source": [
    "# parameter tuning\n",
    "\n",
    "from sklearn.cluster import KMeans\n",
    "sse = {}\n",
    "for k in range(1, 11):\n",
    "    kmeans = KMeans(n_clusters=k, random_state=42)\n",
    "    kmeans.fit(customers_normalized)\n",
    "    sse[k] = kmeans.inertia_ # SSE to closest cluster centroid\n",
    "plt.title('The Elbow Method')\n",
    "plt.xlabel('k')\n",
    "plt.ylabel('SSE')\n",
    "sns.pointplot(x=list(sse.keys()), y=list(sse.values()))\n",
    "plt.show()"
   ]
  },
  {
   "cell_type": "markdown",
   "id": "8d4501e9-9d31-4d92-8ac4-15d961693f5c",
   "metadata": {},
   "source": [
    "from the above graph we can tell that there are around 4 classes of customers"
   ]
  },
  {
   "cell_type": "code",
   "execution_count": 90,
   "id": "724146b8-6811-41e6-bc80-45796acc4afc",
   "metadata": {},
   "outputs": [
    {
     "data": {
      "text/plain": [
       "(702,)"
      ]
     },
     "execution_count": 90,
     "metadata": {},
     "output_type": "execute_result"
    }
   ],
   "source": [
    "# fiting the model\n",
    "\n",
    "model = KMeans(n_clusters=3, random_state=42)\n",
    "model.fit(customers_normalized)\n",
    "model.labels_.shape"
   ]
  },
  {
   "cell_type": "code",
   "execution_count": 91,
   "id": "4a85d8b1-a295-4258-b47b-7e3dbe85cb79",
   "metadata": {},
   "outputs": [
    {
     "data": {
      "text/html": [
       "<div>\n",
       "<style scoped>\n",
       "    .dataframe tbody tr th:only-of-type {\n",
       "        vertical-align: middle;\n",
       "    }\n",
       "\n",
       "    .dataframe tbody tr th {\n",
       "        vertical-align: top;\n",
       "    }\n",
       "\n",
       "    .dataframe thead tr th {\n",
       "        text-align: left;\n",
       "    }\n",
       "\n",
       "    .dataframe thead tr:last-of-type th {\n",
       "        text-align: right;\n",
       "    }\n",
       "</style>\n",
       "<table border=\"1\" class=\"dataframe\">\n",
       "  <thead>\n",
       "    <tr>\n",
       "      <th></th>\n",
       "      <th>Recency</th>\n",
       "      <th>Frequency</th>\n",
       "      <th colspan=\"2\" halign=\"left\">MonetaryValue</th>\n",
       "    </tr>\n",
       "    <tr>\n",
       "      <th></th>\n",
       "      <th>mean</th>\n",
       "      <th>mean</th>\n",
       "      <th>mean</th>\n",
       "      <th>count</th>\n",
       "    </tr>\n",
       "    <tr>\n",
       "      <th>Cluster</th>\n",
       "      <th></th>\n",
       "      <th></th>\n",
       "      <th></th>\n",
       "      <th></th>\n",
       "    </tr>\n",
       "  </thead>\n",
       "  <tbody>\n",
       "    <tr>\n",
       "      <th>0</th>\n",
       "      <td>6.78</td>\n",
       "      <td>107.80</td>\n",
       "      <td>1.663252e+06</td>\n",
       "      <td>501</td>\n",
       "    </tr>\n",
       "    <tr>\n",
       "      <th>1</th>\n",
       "      <td>2.00</td>\n",
       "      <td>9994.00</td>\n",
       "      <td>2.047752e+08</td>\n",
       "      <td>1</td>\n",
       "    </tr>\n",
       "    <tr>\n",
       "      <th>2</th>\n",
       "      <td>33.95</td>\n",
       "      <td>14.24</td>\n",
       "      <td>2.740355e+05</td>\n",
       "      <td>200</td>\n",
       "    </tr>\n",
       "  </tbody>\n",
       "</table>\n",
       "</div>"
      ],
      "text/plain": [
       "        Recency Frequency MonetaryValue      \n",
       "           mean      mean          mean count\n",
       "Cluster                                      \n",
       "0          6.78    107.80  1.663252e+06   501\n",
       "1          2.00   9994.00  2.047752e+08     1\n",
       "2         33.95     14.24  2.740355e+05   200"
      ]
     },
     "execution_count": 91,
     "metadata": {},
     "output_type": "execute_result"
    }
   ],
   "source": [
    "customers[\"Cluster\"] = model.labels_\n",
    "customers.groupby('Cluster').agg({\n",
    "    'Recency':'mean',\n",
    "    'Frequency':'mean',\n",
    "    'MonetaryValue':['mean', 'count']}).round(2)"
   ]
  },
  {
   "cell_type": "code",
   "execution_count": null,
   "id": "bdcac8a3-a1f1-49a4-90c5-20936cb1b814",
   "metadata": {},
   "outputs": [],
   "source": []
  },
  {
   "cell_type": "code",
   "execution_count": null,
   "id": "78b22854-26ad-467a-bde0-96bdffdad292",
   "metadata": {},
   "outputs": [],
   "source": []
  }
 ],
 "metadata": {
  "kernelspec": {
   "display_name": "Python 3 (ipykernel)",
   "language": "python",
   "name": "python3"
  },
  "language_info": {
   "codemirror_mode": {
    "name": "ipython",
    "version": 3
   },
   "file_extension": ".py",
   "mimetype": "text/x-python",
   "name": "python",
   "nbconvert_exporter": "python",
   "pygments_lexer": "ipython3",
   "version": "3.9.7"
  }
 },
 "nbformat": 4,
 "nbformat_minor": 5
}
